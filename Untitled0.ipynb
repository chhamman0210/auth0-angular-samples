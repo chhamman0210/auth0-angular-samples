{
  "nbformat": 4,
  "nbformat_minor": 0,
  "metadata": {
    "colab": {
      "name": "Untitled0.ipynb",
      "provenance": [],
      "collapsed_sections": [],
      "include_colab_link": true
    },
    "kernelspec": {
      "name": "python3",
      "display_name": "Python 3"
    },
    "language_info": {
      "name": "python"
    }
  },
  "cells": [
    {
      "cell_type": "markdown",
      "metadata": {
        "id": "view-in-github",
        "colab_type": "text"
      },
      "source": [
        "<a href=\"https://colab.research.google.com/github/chhamman0210/auth0-angular-samples/blob/master/Untitled0.ipynb\" target=\"_parent\"><img src=\"https://colab.research.google.com/assets/colab-badge.svg\" alt=\"Open In Colab\"/></a>"
      ]
    },
    {
      "cell_type": "markdown",
      "metadata": {
        "id": "4FPlBD18PEdv"
      },
      "source": [
        "# Sort by values not Keys in Descending order\n"
      ]
    },
    {
      "cell_type": "markdown",
      "metadata": {
        "id": "NuBw0odWQOU5"
      },
      "source": [
        "input :\n",
        "\n",
        "x = 25\n",
        "\n",
        "y = 48\n",
        "\n",
        "z = 65"
      ]
    },
    {
      "cell_type": "markdown",
      "metadata": {
        "id": "U6O3-twmQ8xa"
      },
      "source": [
        "Output:\n",
        "\n",
        "65 = z\n",
        "\n",
        "48 = y\n",
        "\n",
        "25 = x"
      ]
    },
    {
      "cell_type": "code",
      "metadata": {
        "id": "WGpMqpWaO9xF",
        "colab": {
          "base_uri": "https://localhost:8080/"
        },
        "outputId": "90cf2247-f1d3-4b84-aecd-668881a04e5e"
      },
      "source": [
        "a1 = {'x':25, 'y':48, 'z':65}\n",
        "a1_sorted_keys = sorted(a1, key=a1.get, reverse=True)\n",
        "for r in a1_sorted_keys:\n",
        "    print(r, a1[r])"
      ],
      "execution_count": 2,
      "outputs": [
        {
          "output_type": "stream",
          "text": [
            "z 65\n",
            "y 48\n",
            "x 25\n"
          ],
          "name": "stdout"
        }
      ]
    },
    {
      "cell_type": "markdown",
      "metadata": {
        "id": "lkN8JOxqEUtw"
      },
      "source": [
        ""
      ]
    },
    {
      "cell_type": "code",
      "metadata": {
        "id": "72xaNEyJEVq4"
      },
      "source": [
        ""
      ],
      "execution_count": null,
      "outputs": []
    }
  ]
}