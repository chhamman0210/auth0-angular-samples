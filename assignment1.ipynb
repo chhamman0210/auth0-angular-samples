{
  "nbformat": 4,
  "nbformat_minor": 0,
  "metadata": {
    "colab": {
      "name": "assignment1.ipynb",
      "provenance": [],
      "collapsed_sections": [],
      "include_colab_link": true
    },
    "kernelspec": {
      "name": "python3",
      "display_name": "Python 3"
    },
    "language_info": {
      "name": "python"
    }
  },
  "cells": [
    {
      "cell_type": "markdown",
      "metadata": {
        "id": "view-in-github",
        "colab_type": "text"
      },
      "source": [
        "<a href=\"https://colab.research.google.com/github/chhamman0210/auth0-angular-samples/blob/master/assignment1.ipynb\" target=\"_parent\"><img src=\"https://colab.research.google.com/assets/colab-badge.svg\" alt=\"Open In Colab\"/></a>"
      ]
    },
    {
      "cell_type": "markdown",
      "metadata": {
        "id": "HlzlE2trrLSs"
      },
      "source": [
        "Write a python program to print second highest and second lowest numbers from a list.\n",
        "\n",
        "Input1 :\n",
        "\n",
        "\n",
        " 1 2 3 4 5 6   \n",
        "                                                       \n",
        "Output1 :\n",
        "\n",
        " second_highest=5\n",
        "\n",
        " second_lowest=2\n",
        "\n",
        "\n",
        "\n",
        "Input2 :\n",
        "\n",
        " -1 -2 -3 1 2 0\n",
        "\n",
        "Output2 :\n",
        "\n",
        " second_highest=1\n",
        "\n",
        " second_lowest=-2\n"
      ]
    },
    {
      "cell_type": "code",
      "metadata": {
        "id": "spTN6QwUrEBv",
        "colab": {
          "base_uri": "https://localhost:8080/"
        },
        "outputId": "8ffdaac3-c2bb-4033-9dc0-76d8c314a95f"
      },
      "source": [
        "#write your code here\n",
        "def find_len(list1):\n",
        "    length = len(list1)\n",
        "    list1.sort()\n",
        "    print(\"Second Largest element is:\", list1[length-2])\n",
        "    print(\"Second Smallest element is:\", list1[1])\n",
        "  \n",
        "\n",
        "list1=[-1,-2,-3,1,2,0]\n",
        "Largest = find_len(list1)\n",
        "\n",
        "\n",
        "\n",
        "\n",
        "\n",
        "\n",
        "\n",
        "\n",
        "\n",
        "\n",
        "\n",
        "\n",
        "\n",
        "\n",
        "\n",
        "\n"
      ],
      "execution_count": 2,
      "outputs": [
        {
          "output_type": "stream",
          "text": [
            "Second Largest element is: 1\n",
            "Second Smallest element is: -2\n"
          ],
          "name": "stdout"
        }
      ]
    },
    {
      "cell_type": "markdown",
      "metadata": {
        "id": "7CFkePCirH0I"
      },
      "source": [
        ""
      ]
    }
  ]
}